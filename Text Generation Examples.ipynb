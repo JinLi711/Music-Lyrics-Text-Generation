{
 "cells": [
  {
   "cell_type": "code",
   "execution_count": 1,
   "metadata": {},
   "outputs": [
    {
     "name": "stderr",
     "output_type": "stream",
     "text": [
      "/Users/jinli/anaconda3/lib/python3.6/site-packages/h5py/__init__.py:34: FutureWarning: Conversion of the second argument of issubdtype from `float` to `np.floating` is deprecated. In future, it will be treated as `np.float64 == np.dtype(float).type`.\n",
      "  from ._conv import register_converters as _register_converters\n",
      "Using TensorFlow backend.\n"
     ]
    }
   ],
   "source": [
    "import preprocess as pre"
   ]
  },
  {
   "cell_type": "markdown",
   "metadata": {},
   "source": [
    "# Artist: Bob Dylan"
   ]
  },
  {
   "cell_type": "code",
   "execution_count": 2,
   "metadata": {},
   "outputs": [
    {
     "name": "stderr",
     "output_type": "stream",
     "text": [
      "/Users/jinli/Projects/Music Lyrics Text Generation/preprocess.py:61: SettingWithCopyWarning: \n",
      "A value is trying to be set on a copy of a slice from a DataFrame.\n",
      "Try using .loc[row_indexer,col_indexer] = value instead\n",
      "\n",
      "See the caveats in the documentation: http://pandas.pydata.org/pandas-docs/stable/indexing.html#indexing-view-versus-copy\n",
      "  lambda x: clean_str(x)\n"
     ]
    }
   ],
   "source": [
    "bob_dylan_lyrics = pre.get_lyrics_of_category('artist', 'bob-dylan')"
   ]
  },
  {
   "cell_type": "code",
   "execution_count": 3,
   "metadata": {},
   "outputs": [
    {
     "data": {
      "text/plain": [
       "\"well you're coming down high street walking in the sun you make a dead man rise and holler she's the one jolene jolene baby i am the king and you're the queen well it's a long old highway don't ever end i got a saturday night special, i'm back again i'll sleep by your door, lay my life on the line you probably don't know but i'm gonna make you mine jolene jolene baby i am the king and you is the queen i keep my hands in my pocket i'm movin' along people think they know, but they're all wrong you\""
      ]
     },
     "execution_count": 3,
     "metadata": {},
     "output_type": "execute_result"
    }
   ],
   "source": [
    "bob_dylan_lyrics[:500]"
   ]
  },
  {
   "cell_type": "code",
   "execution_count": 6,
   "metadata": {},
   "outputs": [
    {
     "name": "stdout",
     "output_type": "stream",
     "text": [
      "Number of sequences: 38129\n",
      "Unique characters: 55\n",
      "Vectorization...\n",
      "_________________________________________________________________\n",
      "Layer (type)                 Output Shape              Param #   \n",
      "=================================================================\n",
      "gru_3 (GRU)                  (None, 60, 32)            8448      \n",
      "_________________________________________________________________\n",
      "gru_4 (GRU)                  (None, 64)                18624     \n",
      "_________________________________________________________________\n",
      "dense_2 (Dense)              (None, 55)                3575      \n",
      "=================================================================\n",
      "Total params: 30,647\n",
      "Trainable params: 30,647\n",
      "Non-trainable params: 0\n",
      "_________________________________________________________________\n",
      "None\n",
      "Epoch 1/15\n",
      "38129/38129 [==============================] - 30s 794us/step - loss: 2.26161s \n",
      "Epoch 2/15\n",
      "38129/38129 [==============================] - 30s 783us/step - loss: 1.9211\n",
      "Epoch 3/15\n",
      "38129/38129 [==============================] - 30s 788us/step - loss: 1.8013\n",
      "Epoch 4/15\n",
      "38129/38129 [==============================] - 27s 710us/step - loss: 1.7326\n",
      "Epoch 5/15\n",
      "38129/38129 [==============================] - 31s 802us/step - loss: 1.6859\n",
      "Epoch 6/15\n",
      "38129/38129 [==============================] - 28s 744us/step - loss: 1.6549\n",
      "Epoch 7/15\n",
      "38129/38129 [==============================] - 27s 717us/step - loss: 1.6320\n",
      "Epoch 8/15\n",
      "38129/38129 [==============================] - 30s 776us/step - loss: 1.6098\n",
      "Epoch 9/15\n",
      "38129/38129 [==============================] - 29s 763us/step - loss: 1.5936\n",
      "Epoch 10/15\n",
      "38129/38129 [==============================] - 31s 823us/step - loss: 1.5836\n",
      "Epoch 11/15\n",
      "38129/38129 [==============================] - 28s 727us/step - loss: 1.5760\n",
      "Epoch 12/15\n",
      "38129/38129 [==============================] - 27s 717us/step - loss: 1.5693\n",
      "Epoch 13/15\n",
      "38129/38129 [==============================] - 29s 754us/step - loss: 1.5659\n",
      "Epoch 14/15\n",
      "38129/38129 [==============================] - 29s 773us/step - loss: 1.5563\n",
      "Epoch 15/15\n",
      "38129/38129 [==============================] - 31s 823us/step - loss: 1.5533\n"
     ]
    }
   ],
   "source": [
    "maxlen = 60\n",
    "\n",
    "bob_dylan_model, bob_dylan_char_indices = pre.train_model_from_lyrics(\n",
    "    bob_dylan_lyrics,\n",
    "    maxlen=maxlen,\n",
    "    step=20,\n",
    "    epochs=15\n",
    ")"
   ]
  },
  {
   "cell_type": "code",
   "execution_count": 9,
   "metadata": {},
   "outputs": [
    {
     "name": "stdout",
     "output_type": "stream",
     "text": [
      "--- Generating with seed: \"lot of them seemed to be lookin' my way brownsville girl wit\"\n",
      "------ temperature: 0.6\n",
      "lot of them seemed to be lookin' my way brownsville girl with the wordleed to me the brefamy back anch me when the deass on that he can a walked me can tell be the core see the cornever and camb me, go and he dres well, he said efave no have and get so was was was when you can to waty is the there's no but i come bury the wind well, i was waty to dre the trust my heart and my get on the way down and comes and we can the get the come no brill can do go never when when he was briggle get it can can the blame she drive, try her down and chrings the corrout do to get it with a wrike and he staters and she swas of but me and when you can to be do trait is m"
     ]
    }
   ],
   "source": [
    "pre.text_generate(\n",
    "    bob_dylan_model, \n",
    "    bob_dylan_lyrics, \n",
    "    bob_dylan_char_indices, \n",
    "    maxlen=maxlen,\n",
    "    temperature=.6,\n",
    "    textlen=600\n",
    ")"
   ]
  },
  {
   "cell_type": "markdown",
   "metadata": {},
   "source": [
    "# Artist: Drake"
   ]
  },
  {
   "cell_type": "code",
   "execution_count": 10,
   "metadata": {},
   "outputs": [
    {
     "name": "stderr",
     "output_type": "stream",
     "text": [
      "/Users/jinli/Projects/Music Lyrics Text Generation/preprocess.py:61: SettingWithCopyWarning: \n",
      "A value is trying to be set on a copy of a slice from a DataFrame.\n",
      "Try using .loc[row_indexer,col_indexer] = value instead\n",
      "\n",
      "See the caveats in the documentation: http://pandas.pydata.org/pandas-docs/stable/indexing.html#indexing-view-versus-copy\n",
      "  lambda x: clean_str(x)\n"
     ]
    }
   ],
   "source": [
    "drake_lyrics = pre.get_lyrics_of_category('artist', 'drake')"
   ]
  },
  {
   "cell_type": "code",
   "execution_count": 12,
   "metadata": {},
   "outputs": [
    {
     "name": "stdout",
     "output_type": "stream",
     "text": [
      "Number of sequences: 46312\n",
      "Unique characters: 61\n",
      "Vectorization...\n",
      "_________________________________________________________________\n",
      "Layer (type)                 Output Shape              Param #   \n",
      "=================================================================\n",
      "gru_7 (GRU)                  (None, 60, 32)            9024      \n",
      "_________________________________________________________________\n",
      "gru_8 (GRU)                  (None, 64)                18624     \n",
      "_________________________________________________________________\n",
      "dense_4 (Dense)              (None, 61)                3965      \n",
      "=================================================================\n",
      "Total params: 31,613\n",
      "Trainable params: 31,613\n",
      "Non-trainable params: 0\n",
      "_________________________________________________________________\n",
      "None\n",
      "Epoch 1/15\n",
      "46312/46312 [==============================] - 37s 806us/step - loss: 2.2148\n",
      "Epoch 2/15\n",
      "46312/46312 [==============================] - 36s 782us/step - loss: 1.8646\n",
      "Epoch 3/15\n",
      "46312/46312 [==============================] - 37s 794us/step - loss: 1.7579\n",
      "Epoch 4/15\n",
      "46312/46312 [==============================] - 34s 744us/step - loss: 1.7034\n",
      "Epoch 5/15\n",
      "46312/46312 [==============================] - 37s 792us/step - loss: 1.6589\n",
      "Epoch 6/15\n",
      "46312/46312 [==============================] - 37s 793us/step - loss: 1.6355TA: 0s - loss: 1.6\n",
      "Epoch 7/15\n",
      "46312/46312 [==============================] - 37s 795us/step - loss: 1.6169\n",
      "Epoch 8/15\n",
      "46312/46312 [==============================] - 34s 728us/step - loss: 1.6014\n",
      "Epoch 9/15\n",
      "46312/46312 [==============================] - 33s 709us/step - loss: 1.5922\n",
      "Epoch 10/15\n",
      "46312/46312 [==============================] - 34s 736us/step - loss: 1.5799\n",
      "Epoch 11/15\n",
      "46312/46312 [==============================] - 34s 729us/step - loss: 1.5712\n",
      "Epoch 12/15\n",
      "46312/46312 [==============================] - 34s 740us/step - loss: 1.5702\n",
      "Epoch 13/15\n",
      "46312/46312 [==============================] - 37s 803us/step - loss: 1.5652\n",
      "Epoch 14/15\n",
      "46312/46312 [==============================] - 37s 802us/step - loss: 1.5630\n",
      "Epoch 15/15\n",
      "46312/46312 [==============================] - 36s 772us/step - loss: 1.5556\n"
     ]
    }
   ],
   "source": [
    "drake_model, drake_char_indices = pre.train_model_from_lyrics(\n",
    "    drake_lyrics,\n",
    "    maxlen=maxlen,\n",
    "    step=20,\n",
    "    epochs=15\n",
    ")"
   ]
  },
  {
   "cell_type": "code",
   "execution_count": 15,
   "metadata": {},
   "outputs": [
    {
     "name": "stdout",
     "output_type": "stream",
     "text": [
      "--- Generating with seed: \" point where i can sit back took a lot of patience and actio\"\n",
      "------ temperature: 0.8\n",
      " point where i can sit back took a lot of patience and action my that i done, (goin' just see with my just see so tell they said no got all my staving and my show to told my reading rocking is man the drow what i call mind drever, just relent me to phentin' some you ain't been, one on my stay them hit they readeret in these, girl y'a make that just shet kliss the got the string taigga it, go gent. on get this cash gues gon go tos when i me a juss money so right said this suy? bick to i'm go that will i my wise yourrk i mour to done, hearght a but they got the go my cighs that more me the got andin' goi my say nigga the cop there worked to's go then he "
     ]
    }
   ],
   "source": [
    "pre.text_generate(\n",
    "    drake_model, \n",
    "    drake_lyrics, \n",
    "    drake_char_indices, \n",
    "    maxlen=maxlen,\n",
    "    temperature=.8,\n",
    "    textlen=600\n",
    ")"
   ]
  },
  {
   "cell_type": "markdown",
   "metadata": {},
   "source": [
    "# Artist: Beatles"
   ]
  },
  {
   "cell_type": "code",
   "execution_count": 19,
   "metadata": {},
   "outputs": [
    {
     "name": "stderr",
     "output_type": "stream",
     "text": [
      "/Users/jinli/Projects/Music Lyrics Text Generation/preprocess.py:61: SettingWithCopyWarning: \n",
      "A value is trying to be set on a copy of a slice from a DataFrame.\n",
      "Try using .loc[row_indexer,col_indexer] = value instead\n",
      "\n",
      "See the caveats in the documentation: http://pandas.pydata.org/pandas-docs/stable/indexing.html#indexing-view-versus-copy\n",
      "  lambda x: clean_str(x)\n"
     ]
    }
   ],
   "source": [
    "beatles_lyrics = pre.get_lyrics_of_category('artist', 'beatles')"
   ]
  },
  {
   "cell_type": "code",
   "execution_count": 20,
   "metadata": {},
   "outputs": [
    {
     "name": "stdout",
     "output_type": "stream",
     "text": [
      "Number of sequences: 16152\n",
      "Unique characters: 57\n",
      "Vectorization...\n",
      "_________________________________________________________________\n",
      "Layer (type)                 Output Shape              Param #   \n",
      "=================================================================\n",
      "gru_9 (GRU)                  (None, 60, 32)            8640      \n",
      "_________________________________________________________________\n",
      "gru_10 (GRU)                 (None, 64)                18624     \n",
      "_________________________________________________________________\n",
      "dense_5 (Dense)              (None, 57)                3705      \n",
      "=================================================================\n",
      "Total params: 30,969\n",
      "Trainable params: 30,969\n",
      "Non-trainable params: 0\n",
      "_________________________________________________________________\n",
      "None\n",
      "Epoch 1/15\n",
      "16152/16152 [==============================] - 14s 874us/step - loss: 2.4388\n",
      "Epoch 2/15\n",
      "16152/16152 [==============================] - 13s 816us/step - loss: 2.0139\n",
      "Epoch 3/15\n",
      "16152/16152 [==============================] - 13s 787us/step - loss: 1.8445\n",
      "Epoch 4/15\n",
      "16152/16152 [==============================] - 13s 798us/step - loss: 1.7261\n",
      "Epoch 5/15\n",
      "16152/16152 [==============================] - 13s 798us/step - loss: 1.6364\n",
      "Epoch 6/15\n",
      "16152/16152 [==============================] - 12s 755us/step - loss: 1.5554\n",
      "Epoch 7/15\n",
      "16152/16152 [==============================] - 12s 730us/step - loss: 1.4844\n",
      "Epoch 8/15\n",
      "16152/16152 [==============================] - 11s 705us/step - loss: 1.4236\n",
      "Epoch 9/15\n",
      "16152/16152 [==============================] - 12s 737us/step - loss: 1.3710\n",
      "Epoch 10/15\n",
      "16152/16152 [==============================] - 12s 765us/step - loss: 1.3422\n",
      "Epoch 11/15\n",
      "16152/16152 [==============================] - 12s 741us/step - loss: 1.3015\n",
      "Epoch 12/15\n",
      "16152/16152 [==============================] - 12s 746us/step - loss: 1.2739\n",
      "Epoch 13/15\n",
      "16152/16152 [==============================] - 12s 735us/step - loss: 1.2558\n",
      "Epoch 14/15\n",
      "16152/16152 [==============================] - 12s 765us/step - loss: 1.2406\n",
      "Epoch 15/15\n",
      "16152/16152 [==============================] - 12s 764us/step - loss: 1.2198\n"
     ]
    }
   ],
   "source": [
    "beatles_model, beatles_char_indices = pre.train_model_from_lyrics(\n",
    "    beatles_lyrics,\n",
    "    maxlen=maxlen,\n",
    "    step=20,\n",
    "    epochs=15\n",
    ")"
   ]
  },
  {
   "cell_type": "code",
   "execution_count": 21,
   "metadata": {},
   "outputs": [
    {
     "name": "stdout",
     "output_type": "stream",
     "text": [
      "--- Generating with seed: \"o yeah well, that much is alright well, that much is alright\"\n",
      "------ temperature: 0.9\n",
      "o yeah well, that much is alright well, that much is alrightea trieve in a litt. you wormwere's numer jahd. now i'ver not bett you well you shound nur. nah, oh, you make mire, band good ne) ounn and i'm soong that is can durr of thisttly get that chat i need sinde is here jold a cool the is a and i do and i need a crould mus johnn tell me have and she's be and i you cear i hear that you what'gound hard me ah ay la,. don't you hear true shoe'm a know, i'll never lix, time die, dice no, nall mire he's i feel, night dre i'm hed and all stom min, that it there i and that tite chur you've cear that gold you know it sime don't mut here you vere jeaclt back i"
     ]
    }
   ],
   "source": [
    "pre.text_generate(\n",
    "    beatles_model, \n",
    "    beatles_lyrics, \n",
    "    beatles_char_indices, \n",
    "    maxlen=maxlen,\n",
    "    temperature=.9,\n",
    "    textlen=600\n",
    ")"
   ]
  },
  {
   "cell_type": "markdown",
   "metadata": {},
   "source": [
    "# Genre: Hip Hop"
   ]
  },
  {
   "cell_type": "code",
   "execution_count": 24,
   "metadata": {},
   "outputs": [
    {
     "name": "stderr",
     "output_type": "stream",
     "text": [
      "/Users/jinli/Projects/Music Lyrics Text Generation/preprocess.py:61: SettingWithCopyWarning: \n",
      "A value is trying to be set on a copy of a slice from a DataFrame.\n",
      "Try using .loc[row_indexer,col_indexer] = value instead\n",
      "\n",
      "See the caveats in the documentation: http://pandas.pydata.org/pandas-docs/stable/indexing.html#indexing-view-versus-copy\n",
      "  lambda x: clean_str(x)\n"
     ]
    }
   ],
   "source": [
    "hip_hop_lyrics = pre.get_lyrics_of_category('genre', 'Hip-Hop')"
   ]
  },
  {
   "cell_type": "code",
   "execution_count": 27,
   "metadata": {},
   "outputs": [
    {
     "name": "stdout",
     "output_type": "stream",
     "text": [
      "Number of sequences: 30877\n",
      "Unique characters: 153\n",
      "Vectorization...\n",
      "_________________________________________________________________\n",
      "Layer (type)                 Output Shape              Param #   \n",
      "=================================================================\n",
      "gru_11 (GRU)                 (None, 60, 32)            17856     \n",
      "_________________________________________________________________\n",
      "gru_12 (GRU)                 (None, 64)                18624     \n",
      "_________________________________________________________________\n",
      "dense_6 (Dense)              (None, 153)               9945      \n",
      "=================================================================\n",
      "Total params: 46,425\n",
      "Trainable params: 46,425\n",
      "Non-trainable params: 0\n",
      "_________________________________________________________________\n",
      "None\n",
      "Epoch 1/15\n",
      "30877/30877 [==============================] - 31s 1ms/step - loss: 2.4981\n",
      "Epoch 2/15\n",
      "30877/30877 [==============================] - 29s 934us/step - loss: 2.1528\n",
      "Epoch 3/15\n",
      "30877/30877 [==============================] - 26s 832us/step - loss: 2.0304\n",
      "Epoch 4/15\n",
      "30877/30877 [==============================] - 26s 844us/step - loss: 1.9540\n",
      "Epoch 5/15\n",
      "30877/30877 [==============================] - 26s 831us/step - loss: 1.8943\n",
      "Epoch 6/15\n",
      "30877/30877 [==============================] - 25s 825us/step - loss: 1.8465\n",
      "Epoch 7/15\n",
      "30877/30877 [==============================] - 27s 872us/step - loss: 1.8112\n",
      "Epoch 8/15\n",
      "30877/30877 [==============================] - 25s 824us/step - loss: 1.7853\n",
      "Epoch 9/15\n",
      "30877/30877 [==============================] - 26s 843us/step - loss: 1.7645\n",
      "Epoch 10/15\n",
      "30877/30877 [==============================] - 29s 930us/step - loss: 1.7510\n",
      "Epoch 11/15\n",
      "30877/30877 [==============================] - 28s 923us/step - loss: 1.7360\n",
      "Epoch 12/15\n",
      "30877/30877 [==============================] - 28s 906us/step - loss: 1.7243\n",
      "Epoch 13/15\n",
      "30877/30877 [==============================] - 28s 915us/step - loss: 1.7152\n",
      "Epoch 14/15\n",
      "30877/30877 [==============================] - 28s 900us/step - loss: 1.7107\n",
      "Epoch 15/15\n",
      "30877/30877 [==============================] - 26s 855us/step - loss: 1.7066\n"
     ]
    }
   ],
   "source": [
    "hip_hop_model, hip_hop_char_indices = pre.train_model_from_lyrics(\n",
    "    hip_hop_lyrics,\n",
    "    maxlen=maxlen,\n",
    "    step=2000,\n",
    "    epochs=15\n",
    ")"
   ]
  },
  {
   "cell_type": "code",
   "execution_count": 28,
   "metadata": {},
   "outputs": [
    {
     "name": "stdout",
     "output_type": "stream",
     "text": [
      "--- Generating with seed: \" (in the rain) sirens and ambulances it was stuck in the sto\"\n",
      "------ temperature: 0.9\n",
      " (in the rain) sirens and ambulances it was stuck in the stots the growking up, nigga dipper king really himmban the suney up fake my beftouse ki flawed has smisten my co pans put my cim the divivl fuck you you off the hear fris pluc u wan's sinos the kank so got a ball the strist makio i see the this pellow to you not ropry i cove motel witiot.er the the dow that new seap its a ki! so i don't put ma ceme we me foo dope spit my foo the how for ho you swe paro soul i so you over like a clare the buckin' a be fink fead stasten flee she withl, you'ck when for my dive just can wit the house foo les for one even resch eas get ca perise the the better puln y"
     ]
    }
   ],
   "source": [
    "pre.text_generate(\n",
    "    hip_hop_model, \n",
    "    hip_hop_lyrics, \n",
    "    hip_hop_char_indices, \n",
    "    maxlen=maxlen,\n",
    "    temperature=.9,\n",
    "    textlen=600\n",
    ")"
   ]
  },
  {
   "cell_type": "markdown",
   "metadata": {},
   "source": [
    "# Year: 2014"
   ]
  },
  {
   "cell_type": "code",
   "execution_count": 31,
   "metadata": {},
   "outputs": [
    {
     "name": "stderr",
     "output_type": "stream",
     "text": [
      "/Users/jinli/Projects/Music Lyrics Text Generation/preprocess.py:61: SettingWithCopyWarning: \n",
      "A value is trying to be set on a copy of a slice from a DataFrame.\n",
      "Try using .loc[row_indexer,col_indexer] = value instead\n",
      "\n",
      "See the caveats in the documentation: http://pandas.pydata.org/pandas-docs/stable/indexing.html#indexing-view-versus-copy\n",
      "  lambda x: clean_str(x)\n"
     ]
    }
   ],
   "source": [
    "y2014_lyrics = pre.get_lyrics_of_category('year', 2014)"
   ]
  },
  {
   "cell_type": "code",
   "execution_count": 35,
   "metadata": {},
   "outputs": [
    {
     "name": "stdout",
     "output_type": "stream",
     "text": [
      "Number of sequences: 31961\n",
      "Unique characters: 148\n",
      "Vectorization...\n",
      "_________________________________________________________________\n",
      "Layer (type)                 Output Shape              Param #   \n",
      "=================================================================\n",
      "gru_17 (GRU)                 (None, 60, 32)            17376     \n",
      "_________________________________________________________________\n",
      "gru_18 (GRU)                 (None, 64)                18624     \n",
      "_________________________________________________________________\n",
      "dense_9 (Dense)              (None, 148)               9620      \n",
      "=================================================================\n",
      "Total params: 45,620\n",
      "Trainable params: 45,620\n",
      "Non-trainable params: 0\n",
      "_________________________________________________________________\n",
      "None\n",
      "Epoch 1/15\n",
      "31961/31961 [==============================] - 32s 1ms/step - loss: 2.4841\n",
      "Epoch 2/15\n",
      "31961/31961 [==============================] - 29s 905us/step - loss: 2.1298\n",
      "Epoch 3/15\n",
      "31961/31961 [==============================] - 27s 837us/step - loss: 2.00490s - loss: 2.\n",
      "Epoch 4/15\n",
      "31961/31961 [==============================] - 27s 857us/step - loss: 1.9318\n",
      "Epoch 5/15\n",
      "31961/31961 [==============================] - 28s 891us/step - loss: 1.8754\n",
      "Epoch 6/15\n",
      "31961/31961 [==============================] - 28s 890us/step - loss: 1.8369\n",
      "Epoch 7/15\n",
      "31961/31961 [==============================] - 26s 819us/step - loss: 1.8052\n",
      "Epoch 8/15\n",
      "31961/31961 [==============================] - 27s 847us/step - loss: 1.7858\n",
      "Epoch 9/15\n",
      "31961/31961 [==============================] - 25s 794us/step - loss: 1.7743\n",
      "Epoch 10/15\n",
      "31961/31961 [==============================] - 26s 811us/step - loss: 1.75970s - loss: 1.\n",
      "Epoch 11/15\n",
      "31961/31961 [==============================] - 25s 790us/step - loss: 1.7559\n",
      "Epoch 12/15\n",
      "31961/31961 [==============================] - 26s 807us/step - loss: 1.7438\n",
      "Epoch 13/15\n",
      "31961/31961 [==============================] - 26s 808us/step - loss: 1.7478\n",
      "Epoch 14/15\n",
      "31961/31961 [==============================] - 25s 787us/step - loss: 1.7451\n",
      "Epoch 15/15\n",
      "31961/31961 [==============================] - 25s 784us/step - loss: 1.7579\n"
     ]
    }
   ],
   "source": [
    "y2014_model, y2014_char_indices = pre.train_model_from_lyrics(\n",
    "    y2014_lyrics,\n",
    "    maxlen=maxlen,\n",
    "    step=500,\n",
    "    epochs=15\n",
    ")"
   ]
  },
  {
   "cell_type": "code",
   "execution_count": 36,
   "metadata": {},
   "outputs": [
    {
     "name": "stdout",
     "output_type": "stream",
     "text": [
      "--- Generating with seed: \"idn't need? keep your hands, keep your hands off of me i am \"\n",
      "------ temperature: 0.6\n",
      "idn't need? keep your hands, keep your hands off of me i am i wor don't wand it a cause the stay it's now your like a don't with your fif your feeling out you wave that so our to love a hould you can like that it on you can me it on me it of you out my now i'm vering out till it's for my mona intip to the some then in the sushone same i gove your fage changs it i can like this how entil you don't goin the take your fight hear it out the way it's good out your dime don't was only know the some it eit the batking on the say it on the say it out to the end have me to 'man our fare i was on the strough and you want to the tome this slike that a love on a b"
     ]
    }
   ],
   "source": [
    "pre.text_generate(\n",
    "    y2014_model, \n",
    "    y2014_lyrics, \n",
    "    y2014_char_indices, \n",
    "    maxlen=maxlen,\n",
    "    temperature=.6,\n",
    "    textlen=600\n",
    ")"
   ]
  },
  {
   "cell_type": "code",
   "execution_count": null,
   "metadata": {
    "collapsed": true
   },
   "outputs": [],
   "source": []
  }
 ],
 "metadata": {
  "kernelspec": {
   "display_name": "Python 3",
   "language": "python",
   "name": "python3"
  },
  "language_info": {
   "codemirror_mode": {
    "name": "ipython",
    "version": 3
   },
   "file_extension": ".py",
   "mimetype": "text/x-python",
   "name": "python",
   "nbconvert_exporter": "python",
   "pygments_lexer": "ipython3",
   "version": "3.6.3"
  },
  "toc": {
   "base_numbering": 1,
   "nav_menu": {},
   "number_sections": true,
   "sideBar": true,
   "skip_h1_title": false,
   "title_cell": "Table of Contents",
   "title_sidebar": "Contents",
   "toc_cell": false,
   "toc_position": {},
   "toc_section_display": true,
   "toc_window_display": false
  }
 },
 "nbformat": 4,
 "nbformat_minor": 2
}
