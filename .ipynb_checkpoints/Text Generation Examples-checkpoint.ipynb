{
 "cells": [
  {
   "cell_type": "code",
   "execution_count": 1,
   "metadata": {},
   "outputs": [
    {
     "name": "stderr",
     "output_type": "stream",
     "text": [
      "/Users/jinli/anaconda3/lib/python3.6/site-packages/h5py/__init__.py:34: FutureWarning: Conversion of the second argument of issubdtype from `float` to `np.floating` is deprecated. In future, it will be treated as `np.float64 == np.dtype(float).type`.\n",
      "  from ._conv import register_converters as _register_converters\n",
      "Using TensorFlow backend.\n"
     ]
    }
   ],
   "source": [
    "import preprocess as pre"
   ]
  },
  {
   "cell_type": "markdown",
   "metadata": {},
   "source": [
    "# Bob Dylan"
   ]
  },
  {
   "cell_type": "code",
   "execution_count": 2,
   "metadata": {},
   "outputs": [
    {
     "name": "stderr",
     "output_type": "stream",
     "text": [
      "/Users/jinli/Projects/Music Lyrics Text Generation/preprocess.py:61: SettingWithCopyWarning: \n",
      "A value is trying to be set on a copy of a slice from a DataFrame.\n",
      "Try using .loc[row_indexer,col_indexer] = value instead\n",
      "\n",
      "See the caveats in the documentation: http://pandas.pydata.org/pandas-docs/stable/indexing.html#indexing-view-versus-copy\n",
      "  lambda x: clean_str(x)\n"
     ]
    }
   ],
   "source": [
    "bob_dylan_lyrics = pre.get_lyrics_of_category('artist', 'bob-dylan')"
   ]
  },
  {
   "cell_type": "code",
   "execution_count": 3,
   "metadata": {},
   "outputs": [
    {
     "data": {
      "text/plain": [
       "\"well you're coming down high street walking in the sun you make a dead man rise and holler she's the one jolene jolene baby i am the king and you're the queen well it's a long old highway don't ever end i got a saturday night special, i'm back again i'll sleep by your door, lay my life on the line you probably don't know but i'm gonna make you mine jolene jolene baby i am the king and you is the queen i keep my hands in my pocket i'm movin' along people think they know, but they're all wrong you\""
      ]
     },
     "execution_count": 3,
     "metadata": {},
     "output_type": "execute_result"
    }
   ],
   "source": [
    "bob_dylan_lyrics[:500]"
   ]
  },
  {
   "cell_type": "code",
   "execution_count": 6,
   "metadata": {},
   "outputs": [
    {
     "name": "stdout",
     "output_type": "stream",
     "text": [
      "Number of sequences: 38129\n",
      "Unique characters: 55\n",
      "Vectorization...\n",
      "_________________________________________________________________\n",
      "Layer (type)                 Output Shape              Param #   \n",
      "=================================================================\n",
      "gru_3 (GRU)                  (None, 60, 32)            8448      \n",
      "_________________________________________________________________\n",
      "gru_4 (GRU)                  (None, 64)                18624     \n",
      "_________________________________________________________________\n",
      "dense_2 (Dense)              (None, 55)                3575      \n",
      "=================================================================\n",
      "Total params: 30,647\n",
      "Trainable params: 30,647\n",
      "Non-trainable params: 0\n",
      "_________________________________________________________________\n",
      "None\n",
      "Epoch 1/15\n",
      "38129/38129 [==============================] - 30s 794us/step - loss: 2.26161s \n",
      "Epoch 2/15\n",
      "38129/38129 [==============================] - 30s 783us/step - loss: 1.9211\n",
      "Epoch 3/15\n",
      "38129/38129 [==============================] - 30s 788us/step - loss: 1.8013\n",
      "Epoch 4/15\n",
      "38129/38129 [==============================] - 27s 710us/step - loss: 1.7326\n",
      "Epoch 5/15\n",
      "38129/38129 [==============================] - 31s 802us/step - loss: 1.6859\n",
      "Epoch 6/15\n",
      "38129/38129 [==============================] - 28s 744us/step - loss: 1.6549\n",
      "Epoch 7/15\n",
      "38129/38129 [==============================] - 27s 717us/step - loss: 1.6320\n",
      "Epoch 8/15\n",
      "38129/38129 [==============================] - 30s 776us/step - loss: 1.6098\n",
      "Epoch 9/15\n",
      "38129/38129 [==============================] - 29s 763us/step - loss: 1.5936\n",
      "Epoch 10/15\n",
      "38129/38129 [==============================] - 31s 823us/step - loss: 1.5836\n",
      "Epoch 11/15\n",
      "38129/38129 [==============================] - 28s 727us/step - loss: 1.5760\n",
      "Epoch 12/15\n",
      "38129/38129 [==============================] - 27s 717us/step - loss: 1.5693\n",
      "Epoch 13/15\n",
      "38129/38129 [==============================] - 29s 754us/step - loss: 1.5659\n",
      "Epoch 14/15\n",
      "38129/38129 [==============================] - 29s 773us/step - loss: 1.5563\n",
      "Epoch 15/15\n",
      "38129/38129 [==============================] - 31s 823us/step - loss: 1.5533\n"
     ]
    }
   ],
   "source": [
    "maxlen = 60\n",
    "\n",
    "bob_dylan_model, bob_dylan_char_indices = pre.train_model_from_lyrics(\n",
    "    bob_dylan_lyrics,\n",
    "    maxlen=maxlen,\n",
    "    step=20,\n",
    "    epochs=15\n",
    ")"
   ]
  },
  {
   "cell_type": "code",
   "execution_count": 9,
   "metadata": {},
   "outputs": [
    {
     "name": "stdout",
     "output_type": "stream",
     "text": [
      "--- Generating with seed: \"lot of them seemed to be lookin' my way brownsville girl wit\"\n",
      "------ temperature: 0.6\n",
      "lot of them seemed to be lookin' my way brownsville girl with the wordleed to me the brefamy back anch me when the deass on that he can a walked me can tell be the core see the cornever and camb me, go and he dres well, he said efave no have and get so was was was when you can to waty is the there's no but i come bury the wind well, i was waty to dre the trust my heart and my get on the way down and comes and we can the get the come no brill can do go never when when he was briggle get it can can the blame she drive, try her down and chrings the corrout do to get it with a wrike and he staters and she swas of but me and when you can to be do trait is m"
     ]
    }
   ],
   "source": [
    "pre.text_generate(\n",
    "    bob_dylan_model, \n",
    "    bob_dylan_lyrics, \n",
    "    bob_dylan_char_indices, \n",
    "    maxlen=maxlen,\n",
    "    temperature=.6,\n",
    "    textlen=600\n",
    ")"
   ]
  },
  {
   "cell_type": "markdown",
   "metadata": {},
   "source": [
    "# Drake"
   ]
  },
  {
   "cell_type": "code",
   "execution_count": 10,
   "metadata": {},
   "outputs": [
    {
     "name": "stderr",
     "output_type": "stream",
     "text": [
      "/Users/jinli/Projects/Music Lyrics Text Generation/preprocess.py:61: SettingWithCopyWarning: \n",
      "A value is trying to be set on a copy of a slice from a DataFrame.\n",
      "Try using .loc[row_indexer,col_indexer] = value instead\n",
      "\n",
      "See the caveats in the documentation: http://pandas.pydata.org/pandas-docs/stable/indexing.html#indexing-view-versus-copy\n",
      "  lambda x: clean_str(x)\n"
     ]
    }
   ],
   "source": [
    "drake_lyrics = pre.get_lyrics_of_category('artist', 'drake')"
   ]
  },
  {
   "cell_type": "code",
   "execution_count": 12,
   "metadata": {},
   "outputs": [
    {
     "name": "stdout",
     "output_type": "stream",
     "text": [
      "Number of sequences: 46312\n",
      "Unique characters: 61\n",
      "Vectorization...\n",
      "_________________________________________________________________\n",
      "Layer (type)                 Output Shape              Param #   \n",
      "=================================================================\n",
      "gru_7 (GRU)                  (None, 60, 32)            9024      \n",
      "_________________________________________________________________\n",
      "gru_8 (GRU)                  (None, 64)                18624     \n",
      "_________________________________________________________________\n",
      "dense_4 (Dense)              (None, 61)                3965      \n",
      "=================================================================\n",
      "Total params: 31,613\n",
      "Trainable params: 31,613\n",
      "Non-trainable params: 0\n",
      "_________________________________________________________________\n",
      "None\n",
      "Epoch 1/15\n",
      "46312/46312 [==============================] - 37s 806us/step - loss: 2.2148\n",
      "Epoch 2/15\n",
      "46312/46312 [==============================] - 36s 782us/step - loss: 1.8646\n",
      "Epoch 3/15\n",
      "46312/46312 [==============================] - 37s 794us/step - loss: 1.7579\n",
      "Epoch 4/15\n",
      "46312/46312 [==============================] - 34s 744us/step - loss: 1.7034\n",
      "Epoch 5/15\n",
      "46312/46312 [==============================] - 37s 792us/step - loss: 1.6589\n",
      "Epoch 6/15\n",
      "46312/46312 [==============================] - 37s 793us/step - loss: 1.6355TA: 0s - loss: 1.6\n",
      "Epoch 7/15\n",
      "46312/46312 [==============================] - 37s 795us/step - loss: 1.6169\n",
      "Epoch 8/15\n",
      "46312/46312 [==============================] - 34s 728us/step - loss: 1.6014\n",
      "Epoch 9/15\n",
      "46312/46312 [==============================] - 33s 709us/step - loss: 1.5922\n",
      "Epoch 10/15\n",
      "46312/46312 [==============================] - 34s 736us/step - loss: 1.5799\n",
      "Epoch 11/15\n",
      "46312/46312 [==============================] - 34s 729us/step - loss: 1.5712\n",
      "Epoch 12/15\n",
      "46312/46312 [==============================] - 34s 740us/step - loss: 1.5702\n",
      "Epoch 13/15\n",
      "46312/46312 [==============================] - 37s 803us/step - loss: 1.5652\n",
      "Epoch 14/15\n",
      "46312/46312 [==============================] - 37s 802us/step - loss: 1.5630\n",
      "Epoch 15/15\n",
      "46312/46312 [==============================] - 36s 772us/step - loss: 1.5556\n"
     ]
    }
   ],
   "source": [
    "drake_model, drake_char_indices = pre.train_model_from_lyrics(\n",
    "    drake_lyrics,\n",
    "    maxlen=maxlen,\n",
    "    step=20,\n",
    "    epochs=15\n",
    ")"
   ]
  },
  {
   "cell_type": "code",
   "execution_count": 15,
   "metadata": {},
   "outputs": [
    {
     "name": "stdout",
     "output_type": "stream",
     "text": [
      "--- Generating with seed: \" point where i can sit back took a lot of patience and actio\"\n",
      "------ temperature: 0.8\n",
      " point where i can sit back took a lot of patience and action my that i done, (goin' just see with my just see so tell they said no got all my staving and my show to told my reading rocking is man the drow what i call mind drever, just relent me to phentin' some you ain't been, one on my stay them hit they readeret in these, girl y'a make that just shet kliss the got the string taigga it, go gent. on get this cash gues gon go tos when i me a juss money so right said this suy? bick to i'm go that will i my wise yourrk i mour to done, hearght a but they got the go my cighs that more me the got andin' goi my say nigga the cop there worked to's go then he "
     ]
    }
   ],
   "source": [
    "pre.text_generate(\n",
    "    drake_model, \n",
    "    drake_lyrics, \n",
    "    drake_char_indices, \n",
    "    maxlen=maxlen,\n",
    "    temperature=.8,\n",
    "    textlen=600\n",
    ")"
   ]
  },
  {
   "cell_type": "markdown",
   "metadata": {},
   "source": [
    "# Beatles"
   ]
  },
  {
   "cell_type": "code",
   "execution_count": 19,
   "metadata": {},
   "outputs": [
    {
     "name": "stderr",
     "output_type": "stream",
     "text": [
      "/Users/jinli/Projects/Music Lyrics Text Generation/preprocess.py:61: SettingWithCopyWarning: \n",
      "A value is trying to be set on a copy of a slice from a DataFrame.\n",
      "Try using .loc[row_indexer,col_indexer] = value instead\n",
      "\n",
      "See the caveats in the documentation: http://pandas.pydata.org/pandas-docs/stable/indexing.html#indexing-view-versus-copy\n",
      "  lambda x: clean_str(x)\n"
     ]
    }
   ],
   "source": [
    "beatles_lyrics = pre.get_lyrics_of_category('artist', 'beatles')"
   ]
  },
  {
   "cell_type": "code",
   "execution_count": null,
   "metadata": {},
   "outputs": [
    {
     "name": "stdout",
     "output_type": "stream",
     "text": [
      "Number of sequences: 16152\n",
      "Unique characters: 57\n",
      "Vectorization...\n",
      "_________________________________________________________________\n",
      "Layer (type)                 Output Shape              Param #   \n",
      "=================================================================\n",
      "gru_9 (GRU)                  (None, 60, 32)            8640      \n",
      "_________________________________________________________________\n",
      "gru_10 (GRU)                 (None, 64)                18624     \n",
      "_________________________________________________________________\n",
      "dense_5 (Dense)              (None, 57)                3705      \n",
      "=================================================================\n",
      "Total params: 30,969\n",
      "Trainable params: 30,969\n",
      "Non-trainable params: 0\n",
      "_________________________________________________________________\n",
      "None\n",
      "Epoch 1/15\n",
      "16152/16152 [==============================] - 14s 874us/step - loss: 2.4388\n",
      "Epoch 2/15\n",
      "12160/16152 [=====================>........] - ETA: 3s - loss: 2.0323"
     ]
    }
   ],
   "source": [
    "beatles_model, beatles_char_indices = pre.train_model_from_lyrics(\n",
    "    beatles_lyrics,\n",
    "    maxlen=maxlen,\n",
    "    step=20,\n",
    "    epochs=15\n",
    ")"
   ]
  },
  {
   "cell_type": "code",
   "execution_count": null,
   "metadata": {
    "collapsed": true
   },
   "outputs": [],
   "source": [
    "pre.text_generate(\n",
    "    beatles_model, \n",
    "    beatles_lyrics, \n",
    "    beatles_char_indices, \n",
    "    maxlen=maxlen,\n",
    "    temperature=.9,\n",
    "    textlen=600\n",
    ")"
   ]
  }
 ],
 "metadata": {
  "kernelspec": {
   "display_name": "Python 3",
   "language": "python",
   "name": "python3"
  },
  "language_info": {
   "codemirror_mode": {
    "name": "ipython",
    "version": 3
   },
   "file_extension": ".py",
   "mimetype": "text/x-python",
   "name": "python",
   "nbconvert_exporter": "python",
   "pygments_lexer": "ipython3",
   "version": "3.6.3"
  },
  "toc": {
   "base_numbering": 1,
   "nav_menu": {},
   "number_sections": true,
   "sideBar": true,
   "skip_h1_title": false,
   "title_cell": "Table of Contents",
   "title_sidebar": "Contents",
   "toc_cell": false,
   "toc_position": {},
   "toc_section_display": true,
   "toc_window_display": false
  }
 },
 "nbformat": 4,
 "nbformat_minor": 2
}
